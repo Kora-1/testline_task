{
  "cells": [
    {
      "cell_type": "code",
      "execution_count": 34,
      "metadata": {
        "id": "4SNPofAPdwpO"
      },
      "outputs": [],
      "source": [
        "!pip install requests csv pandas json matplotlib seaborn datetime\n",
        "import requests\n",
        "import csv\n",
        "import pandas as pd\n",
        "import json\n",
        "import matplotlib.pyplot as plt\n",
        "import seaborn as sns\n",
        "from datetime import datetime"
      ]
    },
    {
      "cell_type": "markdown",
      "metadata": {
        "id": "6LetSD1xeGeM"
      },
      "source": [
        "**Create a questions csv file**"
      ]
    },
    {
      "cell_type": "code",
      "execution_count": 35,
      "metadata": {
        "colab": {
          "base_uri": "https://localhost:8080/"
        },
        "id": "tnHbKnpBaqcA",
        "outputId": "93580804-c3a0-460f-e0a9-f91f692346b1"
      },
      "outputs": [
        {
          "name": "stdout",
          "output_type": "stream",
          "text": [
            "CSV file created successfully! You can download it from /content/questions.csv\n"
          ]
        }
      ],
      "source": [
        "json_url = 'https://www.jsonkeeper.com/b/LLQT'  # JSON URL\n",
        "response = requests.get(json_url)\n",
        "data = response.json()\n",
        "\n",
        "# Initialize a list to hold the rows for the CSV\n",
        "rows = []\n",
        "\n",
        "# Loop through the questions in the quiz\n",
        "for question in data['quiz']['questions']:\n",
        "    question_id = question['id']\n",
        "    options = question['options']\n",
        "\n",
        "    # Get all options IDs and descriptions\n",
        "    option_data = {}\n",
        "    for i, option in enumerate(options):\n",
        "        option_data[f'option {i + 1}'] = option['id']\n",
        "\n",
        "    # Find the correct option ID\n",
        "    correct_option = next(option['id'] for option in options if option['is_correct'])\n",
        "\n",
        "    # Create the row for the current question\n",
        "    row = {'question_id': question_id, **option_data, 'correct option': correct_option}\n",
        "    rows.append(row)\n",
        "\n",
        "df = pd.DataFrame(rows)\n",
        "\n",
        "output_csv_path = 'questions.csv'  # Output CSV file path\n",
        "df.to_csv(output_csv_path, index=False)\n",
        "\n",
        "print(f\"CSV file created successfully! You can download it from {output_csv_path}\")"
      ]
    },
    {
      "cell_type": "markdown",
      "metadata": {
        "id": "Ik4uuONOel7s"
      },
      "source": [
        "**Function to process the data**"
      ]
    },
    {
      "cell_type": "code",
      "execution_count": 36,
      "metadata": {
        "colab": {
          "base_uri": "https://localhost:8080/"
        },
        "id": "fBOzscDQFJ_G",
        "outputId": "0b36c41f-f597-457e-eba9-7c3025e8c1e6"
      },
      "outputs": [
        {
          "name": "stdout",
          "output_type": "stream",
          "text": [
            "Data has been written to user_quiz_data.csv\n"
          ]
        }
      ],
      "source": [
        "def process_quiz_data(data):\n",
        "    processed_data = []\n",
        "    all_response_keys = set()  # To collect all possible response_map keys dynamically\n",
        "\n",
        "    for item in data:\n",
        "        # Extracting required fields\n",
        "        row = {\n",
        "            \"id\": item.get(\"id\"),\n",
        "            \"quiz_id\": item.get(\"quiz_id\"),\n",
        "            \"score\": item.get(\"score\"),\n",
        "            \"trophy_level\": item.get(\"trophy_level\"),\n",
        "            \"accuracy\": item.get(\"accuracy\"),\n",
        "            \"speed\": item.get(\"speed\"),\n",
        "            \"final_score\": item.get(\"final_score\"),\n",
        "            \"negative_score\": item.get(\"negative_score\"),\n",
        "            \"correct_answers\": item.get(\"correct_answers\"),\n",
        "            \"incorrect_answers\": item.get(\"incorrect_answers\"),\n",
        "            \"better_than\": item.get(\"better_than\"),\n",
        "            \"rank_text\": item.get(\"rank_text\"),\n",
        "            \"title\": item[\"quiz\"].get(\"title\") if \"quiz\" in item else None,\n",
        "            \"topic\": item[\"quiz\"].get(\"topic\") if \"quiz\" in item else None,\n",
        "        }\n",
        "\n",
        "        # Extract response_map data\n",
        "        response_map = item.get(\"response_map\", {})\n",
        "        for question_key, answer_selected in response_map.items():\n",
        "            row[f\"question_key_{question_key}\"] = question_key\n",
        "            row[f\"answer_selected_{question_key}\"] = answer_selected\n",
        "            all_response_keys.add(f\"question_key_{question_key}\")\n",
        "            all_response_keys.add(f\"answer_selected_{question_key}\")\n",
        "\n",
        "        processed_data.append(row)\n",
        "\n",
        "    return processed_data, all_response_keys\n",
        "\n",
        "# Fetch data from the URL\n",
        "url = \"https://api.jsonserve.com/XgAgFJ\"\n",
        "response = requests.get(url)\n",
        "\n",
        "if response.status_code == 200:\n",
        "    data = response.json()\n",
        "\n",
        "    # Process data and collect all response keys\n",
        "    processed_data, all_response_keys = process_quiz_data(data)\n",
        "\n",
        "    # Define fieldnames including dynamically collected response keys\n",
        "    static_fieldnames = [\n",
        "        \"id\", \"quiz_id\", \"score\", \"trophy_level\", \"accuracy\", \"speed\",\n",
        "        \"final_score\", \"negative_score\", \"correct_answers\", \"incorrect_answers\",\n",
        "        \"better_than\", \"rank_text\", \"title\", \"topic\"\n",
        "    ]\n",
        "    fieldnames = static_fieldnames + sorted(all_response_keys)  # Combine static and dynamic keys\n",
        "\n",
        "    # Write data to CSV\n",
        "    with open(\"user_quiz_data.csv\", \"w\", newline=\"\") as csvfile:\n",
        "        writer = csv.DictWriter(csvfile, fieldnames=fieldnames)\n",
        "        writer.writeheader()\n",
        "\n",
        "        # Fill missing dynamic keys with None for each record\n",
        "        for row in processed_data:\n",
        "            for key in fieldnames:\n",
        "                if key not in row:\n",
        "                    row[key] = None\n",
        "            writer.writerow(row)\n",
        "\n",
        "    print(\"Data has been written to user_quiz_data.csv\")\n",
        "else:\n",
        "    print(f\"Failed to fetch data. Status code: {response.status_code}\")\n"
      ]
    },
    {
      "cell_type": "markdown",
      "metadata": {
        "id": "hdNH0bDPetik"
      },
      "source": [
        "**Creating a new csv without response map**"
      ]
    },
    {
      "cell_type": "code",
      "execution_count": 37,
      "metadata": {
        "colab": {
          "base_uri": "https://localhost:8080/"
        },
        "id": "z1-ecMvLFJ8_",
        "outputId": "bf6c0e95-9afd-42f2-ffc6-4408c659da1c"
      },
      "outputs": [
        {
          "name": "stdout",
          "output_type": "stream",
          "text": [
            "Data has been written to user_quiz_data.csv\n"
          ]
        }
      ],
      "source": [
        "def process_quiz_data(data):\n",
        "    processed_data = []\n",
        "    # all_response_keys = set()  # To collect all possible response_map keys dynamically\n",
        "\n",
        "    for item in data:\n",
        "        # Extracting required fields\n",
        "        row = {\n",
        "            \"id\": item.get(\"id\"),\n",
        "            \"quiz_id\": item.get(\"quiz_id\"),\n",
        "            \"score\": item.get(\"score\"),\n",
        "            \"trophy_level\": item.get(\"trophy_level\"),\n",
        "            \"accuracy\": item.get(\"accuracy\"),\n",
        "            \"speed\": item.get(\"speed\"),\n",
        "            \"final_score\": item.get(\"final_score\"),\n",
        "            \"negative_score\": item.get(\"negative_score\"),\n",
        "            \"correct_answers\": item.get(\"correct_answers\"),\n",
        "            \"incorrect_answers\": item.get(\"incorrect_answers\"),\n",
        "            \"better_than\": item.get(\"better_than\"),\n",
        "            \"rank_text\": item.get(\"rank_text\"),\n",
        "            \"title\": item[\"quiz\"].get(\"title\") if \"quiz\" in item else None,\n",
        "            \"topic\": item[\"quiz\"].get(\"topic\") if \"quiz\" in item else None,\n",
        "        }\n",
        "\n",
        "        # # Extract response_map data\n",
        "        # response_map = item.get(\"response_map\", {})\n",
        "        # for question_key, answer_selected in response_map.items():\n",
        "        #     row[f\"question_key_{question_key}\"] = question_key\n",
        "        #     row[f\"answer_selected_{question_key}\"] = answer_selected\n",
        "        #     all_response_keys.add(f\"question_key_{question_key}\")\n",
        "        #     all_response_keys.add(f\"answer_selected_{question_key}\")\n",
        "\n",
        "        processed_data.append(row)\n",
        "\n",
        "    return processed_data\n",
        "\n",
        "# Fetch data from the URL\n",
        "url = \"https://api.jsonserve.com/XgAgFJ\"\n",
        "response = requests.get(url)\n",
        "\n",
        "if response.status_code == 200:\n",
        "    data = response.json()\n",
        "\n",
        "    # Process data and collect all response keys\n",
        "    processed_data = process_quiz_data(data)\n",
        "\n",
        "    # Define fieldnames including dynamically collected response keys\n",
        "    static_fieldnames = [\n",
        "        \"id\", \"quiz_id\", \"score\", \"trophy_level\", \"accuracy\", \"speed\",\n",
        "        \"final_score\", \"negative_score\", \"correct_answers\", \"incorrect_answers\",\n",
        "        \"better_than\", \"rank_text\", \"title\", \"topic\"\n",
        "    ]\n",
        "    fieldnames = static_fieldnames # Combine static and dynamic keys\n",
        "\n",
        "    # Write data to CSV\n",
        "    with open(\"user_quizes.csv\", \"w\", newline=\"\") as csvfile:\n",
        "        writer = csv.DictWriter(csvfile, fieldnames=fieldnames)\n",
        "        writer.writeheader()\n",
        "\n",
        "        # Fill missing dynamic keys with None for each record\n",
        "        for row in processed_data:\n",
        "            for key in fieldnames:\n",
        "                if key not in row:\n",
        "                    row[key] = None\n",
        "            writer.writerow(row)\n",
        "\n",
        "    print(\"Data has been written to user_quiz_data.csv\")\n",
        "else:\n",
        "    print(f\"Failed to fetch data. Status code: {response.status_code}\")\n"
      ]
    },
    {
      "cell_type": "code",
      "execution_count": 38,
      "metadata": {
        "id": "Pm00Llm1gwT9"
      },
      "outputs": [],
      "source": [
        "df_csv = pd.read_csv('user_quizes.csv')\n",
        "\n",
        "url = \"https://api.jsonserve.com/XgAgFJ\"  # JSON URL\n",
        "response = requests.get(url)\n",
        "data_json = response.json()\n",
        "\n",
        "# Convert the JSON data to a DataFrame\n",
        "df_json = pd.json_normalize(data_json)\n",
        "\n",
        "# Merge the `time_taken` from JSON data into the CSV data (assuming common `id`)\n",
        "def calculate_duration(row):\n",
        "    started_time = datetime.strptime(row['started_at'][11:16], \"%H:%M\")\n",
        "    ended_time = datetime.strptime(row['ended_at'][11:16], \"%H:%M\")\n",
        "    duration = (ended_time - started_time).total_seconds() / 60  # Convert to minutes\n",
        "    return duration\n",
        "\n",
        "# Calculate the time_taken for each record in the JSON DataFrame\n",
        "df_json['time_taken'] = df_json.apply(calculate_duration, axis=1)\n",
        "\n",
        "df_csv['time_taken'] = df_json['time_taken']\n",
        "\n",
        "df_csv.to_csv('user_quiz_data_with_duration.csv', index=False)"
      ]
    },
    {
      "cell_type": "code",
      "execution_count": 39,
      "metadata": {
        "colab": {
          "base_uri": "https://localhost:8080/"
        },
        "id": "aNYvE9Xng33F",
        "outputId": "e7a969fc-3f0b-4a1c-8cff-c90d0070bca0"
      },
      "outputs": [
        {
          "name": "stdout",
          "output_type": "stream",
          "text": [
            "Updated CSV with normalized score saved to user_quiz_data_with_normalized_score.csv\n"
          ]
        }
      ],
      "source": [
        "file_path = 'user_quiz_data_with_duration.csv'\n",
        "df = pd.read_csv(file_path)\n",
        "\n",
        "# Calculate normalized score: final_score / (correct_answers + incorrect_answers)\n",
        "df['total_questions'] = df['correct_answers'] + df['incorrect_answers']\n",
        "df['normalized_score'] = df['final_score'] / df['total_questions']\n",
        "\n",
        "output_file_path = 'user_quiz_data_with_normalized_score.csv'\n",
        "df.to_csv(output_file_path, index=False)\n",
        "\n",
        "print(f\"Updated CSV with normalized score saved to {output_file_path}\")"
      ]
    },
    {
      "cell_type": "markdown",
      "metadata": {
        "id": "kWxnAOe3e4ic"
      },
      "source": [
        "**Task:**\n",
        "1. Analyze the Data:\n",
        "Explore the schema and identify patterns in student performance by topics, difficulty levels, and response accuracy.\n",
        "2. Generate Insights:\n",
        "Highlight weak areas, improvement trends, and performance gaps for a given user.\n",
        "3. Create Recommendations:\n",
        "Propose actionable steps for the user to improve, such as suggested topics, question types, or difficulty levels to focus on.\n"
      ]
    },
    {
      "cell_type": "code",
      "execution_count": 40,
      "metadata": {
        "colab": {
          "base_uri": "https://localhost:8080/",
          "height": 1000
        },
        "id": "jSe_hfbTGtkY",
        "outputId": "3932bb13-18f7-421c-bce6-0c66f54c0a96"
      },
      "outputs": [
        {
          "name": "stdout",
          "output_type": "stream",
          "text": [
            "\n",
            "Task 1: Identify Patterns in Response Accuracy\n"
          ]
        },
        {
          "data": {
            "image/png": "[encoded data removed]",
            "text/plain": [
              "<Figure size 1000x600 with 1 Axes>"
            ]
          },
          "metadata": {},
          "output_type": "display_data"
        },
        {
          "data": {
            "image/png": "[encoded data removed]",
            "text/plain": [
              "<Figure size 1200x600 with 1 Axes>"
            ]
          },
          "metadata": {},
          "output_type": "display_data"
        },
        {
          "name": "stdout",
          "output_type": "stream",
          "text": [
            "topic\n",
            "principles of inheritance and variation      30.000000\n",
            "Human Reproduction                           38.000000\n",
            "Reproductive Health                          43.000000\n",
            "Respiration and Gas Exchange                 66.000000\n",
            "Body Fluids and Circulation                  72.333333\n",
            "Body Fluids and Circulation                  80.000000\n",
            "reproductive health                          92.000000\n",
            "human health and disease                     93.000000\n",
            "microbes in human welfare                   100.000000\n",
            "Name: accuracy_percentage, dtype: float64\n",
            "\n",
            "Task 2: Generate Insights\n",
            "\n",
            "Weak Areas:\n",
            "topic\n",
            "principles of inheritance and variation     30.0\n",
            "Human Reproduction                          38.0\n",
            "Reproductive Health                         43.0\n",
            "Name: accuracy_percentage, dtype: float64\n",
            "\n",
            "Performance Gaps:\n",
            "                                         score                   \\\n",
            "                                           min  max        mean   \n",
            "topic                                                             \n",
            "Body Fluids and Circulation                 36  116   86.666667   \n",
            "Body Fluids and Circulation                 36   92   54.666667   \n",
            "Human Reproduction                          40   40   40.000000   \n",
            "Reproductive Health                         52   52   52.000000   \n",
            "Respiration and Gas Exchange                24   24   24.000000   \n",
            "human health and disease                   112  112  112.000000   \n",
            "microbes in human welfare                   76   76   76.000000   \n",
            "principles of inheritance and variation     12   12   12.000000   \n",
            "reproductive health                         40   64   52.000000   \n",
            "\n",
            "                                         accuracy_percentage  \n",
            "                                                        mean  \n",
            "topic                                                         \n",
            "Body Fluids and Circulation                        72.333333  \n",
            "Body Fluids and Circulation                        80.000000  \n",
            "Human Reproduction                                 38.000000  \n",
            "Reproductive Health                                43.000000  \n",
            "Respiration and Gas Exchange                       66.000000  \n",
            "human health and disease                           93.000000  \n",
            "microbes in human welfare                         100.000000  \n",
            "principles of inheritance and variation            30.000000  \n",
            "reproductive health                                92.000000  \n",
            "\n",
            "Task 3: Create Recommendations\n",
            "- Focus more on these weak topics: principles of inheritance and variation , Human Reproduction, Reproductive Health\n",
            "- Practice more questions in the topic 'principles of inheritance and variation ' as the average accuracy is below 50%.\n",
            "- Practice more questions in the topic 'Human Reproduction' as the average accuracy is below 50%.\n",
            "- Practice more questions in the topic 'Reproductive Health' as the average accuracy is below 50%.\n"
          ]
        }
      ],
      "source": [
        "def load_data(file_path):\n",
        "    return pd.read_csv(file_path)\n",
        "\n",
        "# Task 1: Identify Patterns in Response Accuracy\n",
        "def task_1(data):\n",
        "    data['accuracy_percentage'] = data['accuracy'].str.rstrip('%').astype(float)\n",
        "\n",
        "    # Overall accuracy patterns\n",
        "    plt.figure(figsize=(10, 6))\n",
        "    sns.histplot(data['accuracy_percentage'], bins=10, kde=True, color=\"blue\")\n",
        "    plt.title(\"Distribution of Accuracy Percentage\")\n",
        "    plt.xlabel(\"Accuracy (%)\")\n",
        "    plt.ylabel(\"Frequency\")\n",
        "    plt.show()\n",
        "\n",
        "    # Average accuracy by topic\n",
        "    avg_accuracy_topic = data.groupby('topic')['accuracy_percentage'].mean().sort_values()\n",
        "    avg_accuracy_topic.plot(kind='bar', figsize=(12, 6), color=\"orange\")\n",
        "    plt.title(\"Average Accuracy by Topic\")\n",
        "    plt.xlabel(\"Topic\")\n",
        "    plt.ylabel(\"Average Accuracy (%)\")\n",
        "    plt.xticks(rotation=45, ha=\"right\")\n",
        "    plt.show()\n",
        "\n",
        "    return avg_accuracy_topic\n",
        "\n",
        "# Task 2: Generate Insights\n",
        "def task_2(data):\n",
        "    insights = {}\n",
        "\n",
        "    # Weak areas: Topics with lowest accuracy\n",
        "    data['accuracy_percentage'] = data['accuracy'].str.rstrip('%').astype(float)\n",
        "    weak_topics = data.groupby('topic')['accuracy_percentage'].mean().sort_values().head(3)\n",
        "    insights['Weak Areas'] = weak_topics\n",
        "\n",
        "    # Performance gaps: Differences between highest and lowest scores\n",
        "    performance_gaps = data.groupby('topic').agg({\n",
        "        'score': ['min', 'max', 'mean'],\n",
        "        'accuracy_percentage': 'mean'\n",
        "    })\n",
        "    insights['Performance Gaps'] = performance_gaps\n",
        "\n",
        "    return insights\n",
        "\n",
        "# Task 3: Create Recommendations\n",
        "def task_3(data):\n",
        "    recommendations = []\n",
        "\n",
        "    # Focus on weak topics\n",
        "    data['accuracy_percentage'] = data['accuracy'].str.rstrip('%').astype(float)\n",
        "    weak_topics = data.groupby('topic')['accuracy_percentage'].mean().sort_values().head(3).index.tolist()\n",
        "    recommendations.append(f\"Focus more on these weak topics: {', '.join(weak_topics)}\")\n",
        "\n",
        "    # Improve speed if required\n",
        "    avg_speed = data['speed'].astype(float).mean()\n",
        "    if avg_speed < 80:\n",
        "        recommendations.append(\"Work on improving your speed; aim for a speed of at least 80.\")\n",
        "\n",
        "    # Suggestions for improvement based on performance gaps\n",
        "    performance_gaps = data.groupby('topic')['accuracy_percentage'].mean().sort_values()\n",
        "    for topic, accuracy in performance_gaps.items():\n",
        "        if accuracy < 50:\n",
        "            recommendations.append(f\"Practice more questions in the topic '{topic}' as the average accuracy is below 50%.\")\n",
        "\n",
        "    return recommendations\n",
        "\n",
        "# Main Function\n",
        "def Task():\n",
        "    # Load data\n",
        "    file_path = 'user_quiz_data_with_normalized_score.csv'  # Replace with your CSV file path\n",
        "    data = load_data(file_path)\n",
        "\n",
        "    # Task 1: Identify Patterns in Response Accuracy\n",
        "    print(\"\\nTask 1: Identify Patterns in Response Accuracy\")\n",
        "    avg_accuracy_topic = task_1(data)\n",
        "    print(avg_accuracy_topic)\n",
        "\n",
        "    # Task 2: Generate Insights\n",
        "    print(\"\\nTask 2: Generate Insights\")\n",
        "    insights = task_2(data)\n",
        "    for key, value in insights.items():\n",
        "        print(f\"\\n{key}:\\n{value}\")\n",
        "\n",
        "    # Task 3: Create Recommendations\n",
        "    print(\"\\nTask 3: Create Recommendations\")\n",
        "    recommendations = task_3(data)\n",
        "    for rec in recommendations:\n",
        "        print(f\"- {rec}\")\n",
        "\n",
        "\n",
        "Task()\n"
      ]
    },
    {
      "cell_type": "markdown",
      "metadata": {
        "id": "gbM6GnI9fXD8"
      },
      "source": [
        "**Bonus Points:**\n",
        "\n",
        "> Analyze and define the student persona based on patterns in the data.\n",
        "\n",
        "> Highlight specific strengths and weaknesses with creative labels or insights.\n"
      ]
    },
    {
      "cell_type": "code",
      "execution_count": 41,
      "metadata": {
        "colab": {
          "base_uri": "https://localhost:8080/"
        },
        "id": "s1wEEKpMHreR",
        "outputId": "d3dbfe56-3fde-48c9-eb85-93ff7ec1684c"
      },
      "outputs": [
        {
          "name": "stdout",
          "output_type": "stream",
          "text": [
            "Student Persona:\n",
            "- persona_type: Improving Learner\n",
            "- speed: Fast Thinker\n",
            "- trophy: Competitive Achiever\n",
            "- accuracy with speed: Quick Responder\n",
            "- accuracy_time_persona: Moderately Accurate and Quick\n",
            "\n",
            "Strengths and Weaknesses:\n",
            "- Strengths: Outperforming Peers in Most Tests\n",
            "- Weaknesses: No significant weaknesses identified.\n"
          ]
        }
      ],
      "source": [
        "def analyze_student_persona(data):\n",
        "\n",
        "    persona = {}\n",
        "\n",
        "    # Consistency analysis\n",
        "    if (data['accuracy'].str.rstrip('%').astype(float) >= 90).mean() > 0.7:\n",
        "        persona['persona_type'] = \"Consistent High Performer\"\n",
        "    elif (data['accuracy'].str.rstrip('%').astype(float) < 50).mean() > 0.5:\n",
        "        persona['persona_type'] = \"Inconsistent Performer\"\n",
        "    else:\n",
        "        persona['persona_type'] = \"Improving Learner\"\n",
        "\n",
        "    # Speed analysis\n",
        "    avg_speed = data['speed'].astype(float).mean()\n",
        "    if avg_speed > 95:\n",
        "        persona['speed'] = \"Fast Thinker\"\n",
        "    elif avg_speed > 70:\n",
        "        persona['speed'] = \"Balanced Thinker\"\n",
        "    else:\n",
        "        persona['speed'] = \"Needs Time to Process\"\n",
        "\n",
        "    # Trophy analysis\n",
        "    avg_trophy = data['trophy_level'].mean()\n",
        "    if avg_trophy > 2:\n",
        "        persona['trophy'] = \"Competitive Achiever\"\n",
        "    elif avg_trophy == 2:\n",
        "        persona['trophy'] = \"Dedicated Competitor\"\n",
        "    else:\n",
        "        persona['trophy'] = \"Casual Learner\"\n",
        "\n",
        "\n",
        "    accuracy = data['accuracy'].str.rstrip('%').astype(float)\n",
        "    speed = data['speed'].astype(float)\n",
        "\n",
        "    # speed and accuracy analysis\n",
        "    if accuracy.mean() >= 90 and speed.mean() >= 95:\n",
        "        persona[\"accuracy with speed\"] = \"Sharp Shooter\"  # High accuracy and speed\n",
        "    elif accuracy.mean() >= 90 and speed.mean() < 95:\n",
        "        persona[\"accuracy with speed\"] = \"Precise Strategist\"  # High accuracy, moderate speed\n",
        "    elif accuracy.mean() < 90 and accuracy.mean() > 70 and speed.mean() >= 95:\n",
        "        persona[\"accuracy with speed\"] = \"Quick Responder\"  # Moderate accuracy, high speed\n",
        "    else:\n",
        "        persona[\"accuracy with speed\"] = \"Steady Learner\"  # Moderate accuracy and speed\n",
        "\n",
        "\n",
        "    avg_time=data['time_taken'].astype(float).mean()\n",
        "\n",
        "    # avgerage time taken to complete and accuracy analysis\n",
        "    if accuracy.mean() >= 90 and avg_time <= 10:\n",
        "        persona['accuracy_time_persona'] = \"Accurate and Fast\"\n",
        "    elif accuracy.mean() >= 90 and avg_time> 10:\n",
        "        persona['accuracy_time_persona'] = \"Accurate and Thoughtful\"\n",
        "    elif accuracy.mean() >= 70 and avg_time <= 10:\n",
        "        persona['accuracy_time_persona'] = \"Moderately Accurate and Quick\"\n",
        "    else:\n",
        "        persona['accuracy_time_persona'] = \"Needs Focus and Time\"\n",
        "\n",
        "    return persona\n",
        "\n",
        "\n",
        "def highlight_strengths_and_weaknesses(data):\n",
        "\n",
        "    strengths = []\n",
        "    weaknesses = []\n",
        "\n",
        "    # Identifying strengths\n",
        "    if (data['correct_answers'] > 20).mean() > 0.5:\n",
        "        strengths.append(\"High Accuracy in Solving Complex Topics\")\n",
        "    if data['better_than'].mean() > 100:\n",
        "        strengths.append(\"Outperforming Peers in Most Tests\")\n",
        "\n",
        "    '''\n",
        "      Thought to use rank but it is not useful.\n",
        "\n",
        "    if (data['rank_text'].str.contains(\"-#\")).mean() > 0.7:\n",
        "    if (data['rank_text'].str.extract(r'-#(\\d+)')).mean() > 0.7:\n",
        "        strengths.append(\"Excellent Ranking Consistency\")\n",
        "\n",
        "    '''\n",
        "\n",
        "    # Identifying weaknesses\n",
        "    if (data['negative_score'].astype(float) > 10).mean() > 0.3:\n",
        "        weaknesses.append(\"Struggles with Negative Marking\")\n",
        "    if (data['accuracy'].str.rstrip('%').astype(float) < 60).mean() > 0.5:\n",
        "        weaknesses.append(\"Accuracy Needs Significant Improvement\")\n",
        "    if data['final_score'].mean() < 50:\n",
        "        weaknesses.append(\"Overall Scores Below Benchmark\")\n",
        "\n",
        "    # Creative insights\n",
        "    labels = {\n",
        "        \"strengths\": \", \".join(strengths) if strengths else \"No notable strengths identified.\",\n",
        "        \"weaknesses\": \", \".join(weaknesses) if weaknesses else \"No significant weaknesses identified.\",\n",
        "    }\n",
        "\n",
        "    return labels\n",
        "\n",
        "\n",
        "def main():\n",
        "    # Load data from the CSV file\n",
        "    file_path = \"user_quiz_data_with_normalized_score.csv\"\n",
        "    data = pd.read_csv(file_path)\n",
        "\n",
        "    # Analyze student persona\n",
        "    persona = analyze_student_persona(data)\n",
        "    print(\"Student Persona:\")\n",
        "    for key, value in persona.items():\n",
        "        print(f\"- {key}: {value}\")\n",
        "\n",
        "    # Highlight strengths and weaknesses\n",
        "    insights = highlight_strengths_and_weaknesses(data)\n",
        "    print(\"\\nStrengths and Weaknesses:\")\n",
        "    for key, value in insights.items():\n",
        "        print(f\"- {key.capitalize()}: {value}\")\n",
        "\n",
        "\n",
        "\n",
        "main()\n"
      ]
    }
  ],
  "metadata": {
    "colab": {
      "provenance": []
    },
    "kernelspec": {
      "display_name": "Python 3",
      "name": "python3"
    },
    "language_info": {
      "name": "python"
    }
  },
  "nbformat": 4,
  "nbformat_minor": 0
}
